{
 "cells": [
  {
   "cell_type": "code",
   "execution_count": 5,
   "id": "db8742d6",
   "metadata": {},
   "outputs": [],
   "source": [
    "def square_max(my_list):\n",
    "    print(max(my_list))"
   ]
  },
  {
   "cell_type": "code",
   "execution_count": 6,
   "id": "c5614d90",
   "metadata": {},
   "outputs": [],
   "source": [
    "def is_two(x):\n",
    "    if x == 2 or x == '2':\n",
    "        return True\n",
    "    else:\n",
    "        return False\n"
   ]
  },
  {
   "cell_type": "code",
   "execution_count": 7,
   "id": "955794b9",
   "metadata": {},
   "outputs": [
    {
     "data": {
      "text/plain": [
       "False"
      ]
     },
     "execution_count": 7,
     "metadata": {},
     "output_type": "execute_result"
    }
   ],
   "source": [
    "is_two(5)"
   ]
  },
  {
   "cell_type": "code",
   "execution_count": 8,
   "id": "1ebd7e13",
   "metadata": {},
   "outputs": [
    {
     "data": {
      "text/plain": [
       "True"
      ]
     },
     "execution_count": 8,
     "metadata": {},
     "output_type": "execute_result"
    }
   ],
   "source": [
    "is_two(2)"
   ]
  },
  {
   "cell_type": "code",
   "execution_count": 39,
   "id": "8b934074",
   "metadata": {},
   "outputs": [],
   "source": [
    "def is_vowel(x):\n",
    "    vowels = 0\n",
    "    for char in x:\n",
    "        if char in \"aeiouAEIOU\":\n",
    "            vowels = vowels + 1\n",
    "        else:\n",
    "            vowels = vowels\n",
    "    if vowels != 0:\n",
    "        return True\n",
    "    else:\n",
    "        return False"
   ]
  },
  {
   "cell_type": "code",
   "execution_count": 41,
   "id": "d0168075",
   "metadata": {},
   "outputs": [
    {
     "data": {
      "text/plain": [
       "False"
      ]
     },
     "execution_count": 41,
     "metadata": {},
     "output_type": "execute_result"
    }
   ],
   "source": [
    "is_vowel(\"hll\")"
   ]
  },
  {
   "cell_type": "code",
   "execution_count": 99,
   "id": "1a3fe8ee",
   "metadata": {},
   "outputs": [],
   "source": [
    "def cube_max(my_list):\n",
    "    print(max(my_list) ** 3, 'cube')\n",
    "    "
   ]
  },
  {
   "cell_type": "code",
   "execution_count": 127,
   "id": "7fa21ec8",
   "metadata": {},
   "outputs": [],
   "source": [
    "def converter(meas, metric = True):\n",
    "    \n",
    "    if metric:\n",
    "        num_inches = meas / 2.54\n",
    "        \n",
    "        return num_inches\n",
    "    \n",
    "    else:\n",
    "        num_cms = meas * 2.54\n",
    "        \n",
    "        return num_cms"
   ]
  },
  {
   "cell_type": "code",
   "execution_count": 128,
   "id": "fcc532a4",
   "metadata": {},
   "outputs": [
    {
     "data": {
      "text/plain": [
       "47.24409448818898"
      ]
     },
     "execution_count": 128,
     "metadata": {},
     "output_type": "execute_result"
    }
   ],
   "source": [
    "converter(120, metric = True)"
   ]
  },
  {
   "cell_type": "code",
   "execution_count": 141,
   "id": "d1594991",
   "metadata": {},
   "outputs": [],
   "source": [
    "def min_finder(my_list):\n",
    "    x = min(my_list)\n",
    "    return x"
   ]
  },
  {
   "cell_type": "code",
   "execution_count": 142,
   "id": "7497ec3d",
   "metadata": {},
   "outputs": [],
   "source": [
    "dummy_list = [2, 2, 2, 4, 7]"
   ]
  },
  {
   "cell_type": "code",
   "execution_count": 143,
   "id": "e8491251",
   "metadata": {},
   "outputs": [
    {
     "data": {
      "text/plain": [
       "2"
      ]
     },
     "execution_count": 143,
     "metadata": {},
     "output_type": "execute_result"
    }
   ],
   "source": [
    "min_finder(dummy_list)"
   ]
  },
  {
   "cell_type": "code",
   "execution_count": 162,
   "id": "dc9bcdba",
   "metadata": {},
   "outputs": [],
   "source": [
    "def capitalize_if_constant(x):\n",
    "    vowels = \"aeiouAEIOU\"\n",
    "    if x[0] not in vowels:\n",
    "        return x[0].upper() + x[1:]\n",
    "    else:\n",
    "        return x"
   ]
  },
  {
   "cell_type": "code",
   "execution_count": 165,
   "id": "e5e523d0",
   "metadata": {},
   "outputs": [
    {
     "data": {
      "text/plain": [
       "'Dude'"
      ]
     },
     "execution_count": 165,
     "metadata": {},
     "output_type": "execute_result"
    }
   ],
   "source": [
    "capitalize_if_constant('dude')"
   ]
  },
  {
   "cell_type": "code",
   "execution_count": 159,
   "id": "adaf261d",
   "metadata": {},
   "outputs": [
    {
     "data": {
      "text/plain": [
       "'Hello'"
      ]
     },
     "execution_count": 159,
     "metadata": {},
     "output_type": "execute_result"
    }
   ],
   "source": [
    "x = \"hello\"\n",
    "x[0].upper() + x[1:]\n"
   ]
  },
  {
   "cell_type": "code",
   "execution_count": 152,
   "id": "c2f71a60",
   "metadata": {},
   "outputs": [
    {
     "data": {
      "text/plain": [
       "'HELLO'"
      ]
     },
     "execution_count": 152,
     "metadata": {},
     "output_type": "execute_result"
    }
   ],
   "source": [
    "x.upper()"
   ]
  },
  {
   "cell_type": "code",
   "execution_count": 166,
   "id": "cc33db94",
   "metadata": {},
   "outputs": [],
   "source": [
    "def calculate_tip(bill):\n",
    "    tip = bill * 0.2\n",
    "    return tip"
   ]
  },
  {
   "cell_type": "code",
   "execution_count": 167,
   "id": "f40abf54",
   "metadata": {},
   "outputs": [
    {
     "data": {
      "text/plain": [
       "20.0"
      ]
     },
     "execution_count": 167,
     "metadata": {},
     "output_type": "execute_result"
    }
   ],
   "source": [
    "calculate_tip(100)"
   ]
  },
  {
   "cell_type": "code",
   "execution_count": 170,
   "id": "044e1137",
   "metadata": {},
   "outputs": [],
   "source": [
    "def apply_discount(price, discount):\n",
    "    discount_price = price - (price * discount)\n",
    "    return discount_price"
   ]
  },
  {
   "cell_type": "code",
   "execution_count": 171,
   "id": "bdc188be",
   "metadata": {},
   "outputs": [
    {
     "data": {
      "text/plain": [
       "40.0"
      ]
     },
     "execution_count": 171,
     "metadata": {},
     "output_type": "execute_result"
    }
   ],
   "source": [
    "apply_discount(50, .2)"
   ]
  },
  {
   "cell_type": "code",
   "execution_count": 176,
   "id": "da9cdd29",
   "metadata": {},
   "outputs": [],
   "source": [
    "def handle_commas(x):\n",
    "    new = x.replace(\",\",\"\")\n",
    "    return new"
   ]
  },
  {
   "cell_type": "code",
   "execution_count": 177,
   "id": "4b01123a",
   "metadata": {},
   "outputs": [
    {
     "data": {
      "text/plain": [
       "'100000000000000'"
      ]
     },
     "execution_count": 177,
     "metadata": {},
     "output_type": "execute_result"
    }
   ],
   "source": [
    "def is_vowel(x):\n",
    "    vowels = 0\n",
    "    for char in x:\n",
    "        if char in \"aeiouAEIOU\":\n",
    "            vowels = vowels + 1\n",
    "        else:\n",
    "            vowels = vowels\n",
    "    if vowels != 0:\n",
    "        return True\n",
    "    else:\n",
    "        return False"
   ]
  },
  {
   "cell_type": "code",
   "execution_count": 81,
   "id": "bfa00853",
   "metadata": {},
   "outputs": [],
   "source": [
    "def normalize_name(x):\n",
    "    error = \"please enter a valid username\"\n",
    "    stripped = x.strip()\n",
    "    stripped_and_low = stripped.lower()\n",
    "    stripped_low_and_underscored = stripped_and_low.replace(\" \", \"_\")\n",
    "    if stripped_low_and_underscored.isalnum() == True:\n",
    "        return stripped_low_and_underscored\n",
    "    else:\n",
    "        return error\n",
    "    "
   ]
  },
  {
   "cell_type": "code",
   "execution_count": 82,
   "id": "a1b8f138",
   "metadata": {},
   "outputs": [
    {
     "data": {
      "text/plain": [
       "'please enter a valid username'"
      ]
     },
     "execution_count": 82,
     "metadata": {},
     "output_type": "execute_result"
    }
   ],
   "source": [
    "normalize_name(\"hello mny name LSKJ ldkajf kdkda     @  \")"
   ]
  },
  {
   "cell_type": "code",
   "execution_count": 62,
   "id": "e8676a86",
   "metadata": {},
   "outputs": [],
   "source": [
    "def capitalize_if_constant(x):\n",
    "    vowels = \"aeiouAEIOU\"\n",
    "    if x[0] not in vowels:\n",
    "        return x[0].upper() + x[1:]\n",
    "    else:\n",
    "        return x"
   ]
  },
  {
   "cell_type": "code",
   "execution_count": 4,
   "id": "8ee9d1fc",
   "metadata": {},
   "outputs": [
    {
     "data": {
      "text/plain": [
       "'How are you'"
      ]
     },
     "execution_count": 4,
     "metadata": {},
     "output_type": "execute_result"
    }
   ],
   "source": [
    "capitalize_if_constant(\"how are\")"
   ]
  },
  {
   "cell_type": "code",
   "execution_count": 5,
   "id": "2cd7913e",
   "metadata": {},
   "outputs": [],
   "source": [
    "def calculate_tip(bill, rate):\n",
    "    while rate < 0 or rate > 1:\n",
    "        error = \"please enter a tip rate between 0 and 1\"\n",
    "        return error\n",
    "    else:\n",
    "        tip = bill * rate\n",
    "    return tip"
   ]
  },
  {
   "cell_type": "code",
   "execution_count": 6,
   "id": "838b0b57",
   "metadata": {},
   "outputs": [
    {
     "data": {
      "text/plain": [
       "'please enter a tip rate between 0 and 1'"
      ]
     },
     "execution_count": 6,
     "metadata": {},
     "output_type": "execute_result"
    }
   ],
   "source": [
    "calculate_tip(100, 5)"
   ]
  },
  {
   "cell_type": "code",
   "execution_count": 36,
   "id": "077a6e30",
   "metadata": {},
   "outputs": [],
   "source": [
    "def is_vowel(x):\n",
    "    for letter in x:\n",
    "        if letter in \"aeiouAEIOU\":\n",
    "            return True\n",
    "        else:\n",
    "            return False"
   ]
  },
  {
   "cell_type": "code",
   "execution_count": 38,
   "id": "6f0255fa",
   "metadata": {},
   "outputs": [
    {
     "data": {
      "text/plain": [
       "True"
      ]
     },
     "execution_count": 38,
     "metadata": {},
     "output_type": "execute_result"
    }
   ],
   "source": [
    "is_vowel(\"ello aple\")"
   ]
  },
  {
   "cell_type": "code",
   "execution_count": 83,
   "id": "c92a1d2a",
   "metadata": {},
   "outputs": [],
   "source": [
    "def cum_sum(x):\n",
    "    new_list = []\n",
    "    j = 0\n",
    "    for i in list:\n",
    "        j = j + i\n",
    "        new_list.append(j)"
   ]
  },
  {
   "cell_type": "code",
   "execution_count": 84,
   "id": "1cf51b99",
   "metadata": {},
   "outputs": [
    {
     "ename": "TypeError",
     "evalue": "'type' object is not iterable",
     "output_type": "error",
     "traceback": [
      "\u001b[0;31m---------------------------------------------------------------------------\u001b[0m",
      "\u001b[0;31mTypeError\u001b[0m                                 Traceback (most recent call last)",
      "\u001b[0;32m/var/folders/9m/3m9g9yzs77j2m_79z47fjdr00000gq/T/ipykernel_7532/3991275211.py\u001b[0m in \u001b[0;36m<module>\u001b[0;34m\u001b[0m\n\u001b[0;32m----> 1\u001b[0;31m \u001b[0mcum_sum\u001b[0m\u001b[0;34m(\u001b[0m\u001b[0;34m[\u001b[0m\u001b[0;36m1\u001b[0m\u001b[0;34m,\u001b[0m\u001b[0;36m2\u001b[0m\u001b[0;34m,\u001b[0m\u001b[0;36m3\u001b[0m\u001b[0;34m,\u001b[0m\u001b[0;36m4\u001b[0m\u001b[0;34m,\u001b[0m\u001b[0;36m5\u001b[0m\u001b[0;34m,\u001b[0m\u001b[0;36m6\u001b[0m\u001b[0;34m]\u001b[0m\u001b[0;34m)\u001b[0m\u001b[0;34m\u001b[0m\u001b[0;34m\u001b[0m\u001b[0m\n\u001b[0m",
      "\u001b[0;32m/var/folders/9m/3m9g9yzs77j2m_79z47fjdr00000gq/T/ipykernel_7532/547509276.py\u001b[0m in \u001b[0;36mcum_sum\u001b[0;34m(x)\u001b[0m\n\u001b[1;32m      2\u001b[0m     \u001b[0mnew_list\u001b[0m \u001b[0;34m=\u001b[0m \u001b[0;34m[\u001b[0m\u001b[0;34m]\u001b[0m\u001b[0;34m\u001b[0m\u001b[0;34m\u001b[0m\u001b[0m\n\u001b[1;32m      3\u001b[0m     \u001b[0mj\u001b[0m \u001b[0;34m=\u001b[0m \u001b[0;36m0\u001b[0m\u001b[0;34m\u001b[0m\u001b[0;34m\u001b[0m\u001b[0m\n\u001b[0;32m----> 4\u001b[0;31m     \u001b[0;32mfor\u001b[0m \u001b[0mi\u001b[0m \u001b[0;32min\u001b[0m \u001b[0mlist\u001b[0m\u001b[0;34m:\u001b[0m\u001b[0;34m\u001b[0m\u001b[0;34m\u001b[0m\u001b[0m\n\u001b[0m\u001b[1;32m      5\u001b[0m         \u001b[0mj\u001b[0m \u001b[0;34m=\u001b[0m \u001b[0mj\u001b[0m \u001b[0;34m+\u001b[0m \u001b[0mi\u001b[0m\u001b[0;34m\u001b[0m\u001b[0;34m\u001b[0m\u001b[0m\n\u001b[1;32m      6\u001b[0m         \u001b[0mnew_list\u001b[0m\u001b[0;34m.\u001b[0m\u001b[0mappend\u001b[0m\u001b[0;34m(\u001b[0m\u001b[0mj\u001b[0m\u001b[0;34m)\u001b[0m\u001b[0;34m\u001b[0m\u001b[0;34m\u001b[0m\u001b[0m\n",
      "\u001b[0;31mTypeError\u001b[0m: 'type' object is not iterable"
     ]
    }
   ],
   "source": [
    "cum_sum([1,2,3,4,5,6])"
   ]
  },
  {
   "cell_type": "code",
   "execution_count": null,
   "id": "1f3df0e2",
   "metadata": {},
   "outputs": [],
   "source": []
  }
 ],
 "metadata": {
  "kernelspec": {
   "display_name": "Python 3 (ipykernel)",
   "language": "python",
   "name": "python3"
  },
  "language_info": {
   "codemirror_mode": {
    "name": "ipython",
    "version": 3
   },
   "file_extension": ".py",
   "mimetype": "text/x-python",
   "name": "python",
   "nbconvert_exporter": "python",
   "pygments_lexer": "ipython3",
   "version": "3.9.13"
  }
 },
 "nbformat": 4,
 "nbformat_minor": 5
}
