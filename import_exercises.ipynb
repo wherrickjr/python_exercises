{
 "cells": [
  {
   "cell_type": "code",
   "execution_count": 1,
   "id": "4bc449ad",
   "metadata": {},
   "outputs": [],
   "source": [
    "import numpy as np\n",
    "import pandas as pd\n",
    "import matplotlib.pyplot as plt\n",
    "import seaborn as sns"
   ]
  },
  {
   "cell_type": "code",
   "execution_count": 2,
   "id": "a93f1d24",
   "metadata": {},
   "outputs": [],
   "source": [
    "from function_exercises import get_letter_grade\n",
    "\n",
    "\n"
   ]
  },
  {
   "cell_type": "code",
   "execution_count": 3,
   "id": "38448aea",
   "metadata": {},
   "outputs": [
    {
     "data": {
      "text/plain": [
       "'B'"
      ]
     },
     "execution_count": 3,
     "metadata": {},
     "output_type": "execute_result"
    }
   ],
   "source": [
    "get_letter_grade(89)\n",
    "\n"
   ]
  },
  {
   "cell_type": "code",
   "execution_count": 4,
   "id": "128890a0",
   "metadata": {},
   "outputs": [],
   "source": [
    "import itertools as yo\n"
   ]
  },
  {
   "cell_type": "code",
   "execution_count": 5,
   "id": "aa4872d0",
   "metadata": {},
   "outputs": [
    {
     "name": "stdout",
     "output_type": "stream",
     "text": [
      "3003\n"
     ]
    },
    {
     "data": {
      "text/plain": [
       "' this shows how many different combinations are in the abcd123'"
      ]
     },
     "execution_count": 5,
     "metadata": {},
     "output_type": "execute_result"
    }
   ],
   "source": [
    "x = list(yo.combinations_with_replacement('abcd123', 8))\n",
    "\n",
    "print(len(x))\n",
    "''' this shows how many different combinations are in the abcd123'''\n",
    "\n"
   ]
  },
  {
   "cell_type": "code",
   "execution_count": 6,
   "id": "4dc40e28",
   "metadata": {},
   "outputs": [
    {
     "ename": "IndentationError",
     "evalue": "unexpected indent (2591500604.py, line 4)",
     "output_type": "error",
     "traceback": [
      "\u001b[0;36m  File \u001b[0;32m\"/var/folders/9m/3m9g9yzs77j2m_79z47fjdr00000gq/T/ipykernel_3231/2591500604.py\"\u001b[0;36m, line \u001b[0;32m4\u001b[0m\n\u001b[0;31m    '''how many different combinations of 3'''\u001b[0m\n\u001b[0m    ^\u001b[0m\n\u001b[0;31mIndentationError\u001b[0m\u001b[0;31m:\u001b[0m unexpected indent\n"
     ]
    }
   ],
   "source": [
    "x = list(yo.combinations_with_replacement('abcd', 2))\n",
    "\n",
    "print(len(x))\n",
    "      '''how many different combinations of 3'''\n",
    "      "
   ]
  },
  {
   "cell_type": "code",
   "execution_count": null,
   "id": "3dbacb8b",
   "metadata": {},
   "outputs": [],
   "source": [
    "import json\n",
    "\n",
    "\n",
    "\n",
    "\n"
   ]
  },
  {
   "cell_type": "code",
   "execution_count": null,
   "id": "b97b6d4d",
   "metadata": {},
   "outputs": [],
   "source": [
    "json.load(open('profiles.json'))\n",
    "\n",
    "\n"
   ]
  },
  {
   "cell_type": "code",
   "execution_count": 9,
   "id": "f0deb9b9",
   "metadata": {},
   "outputs": [],
   "source": [
    "import json\n",
    "\n",
    "x = json.load(open('profiles.json'))\n",
    "\n",
    " \n",
    "\n"
   ]
  },
  {
   "cell_type": "code",
   "execution_count": 10,
   "id": "4a26c1d4",
   "metadata": {},
   "outputs": [
    {
     "data": {
      "text/plain": [
       "19"
      ]
     },
     "execution_count": 10,
     "metadata": {},
     "output_type": "execute_result"
    }
   ],
   "source": [
    "len(x) #total dictionaries in list"
   ]
  },
  {
   "cell_type": "code",
   "execution_count": 11,
   "id": "18b031d6",
   "metadata": {},
   "outputs": [],
   "source": [
    "def total_active_users(dictionary):\n",
    "    active_users = []\n",
    "    for i in dictionary:\n",
    "        if i[\"isActive\"] == True:\n",
    "            active_users.append(i)\n",
    "    return len(active_users)"
   ]
  },
  {
   "cell_type": "code",
   "execution_count": 12,
   "id": "6c6817d9",
   "metadata": {},
   "outputs": [
    {
     "data": {
      "text/plain": [
       "9"
      ]
     },
     "execution_count": 12,
     "metadata": {},
     "output_type": "execute_result"
    }
   ],
   "source": [
    "total_active_users(x)"
   ]
  },
  {
   "cell_type": "code",
   "execution_count": 16,
   "id": "15664779",
   "metadata": {},
   "outputs": [
    {
     "data": {
      "text/plain": [
       "52667.02"
      ]
     },
     "execution_count": 16,
     "metadata": {},
     "output_type": "execute_result"
    }
   ],
   "source": [
    "something = []\n",
    "balances = []\n",
    "only_dollars = []\n",
    "convert = []\n",
    "for i in x:\n",
    "    balances.append(i[\"balance\"])\n",
    "for a in balances:\n",
    "    a = a.strip('$')\n",
    "    something.append(a)\n",
    "for b in something:\n",
    "    b = b.replace(\",\",\"\")\n",
    "    only_dollars.append(b)\n",
    "for c in only_dollars:\n",
    "    c = float(c)\n",
    "    convert.append(c)\n",
    "\n",
    "\n",
    "sum(convert)\n"
   ]
  },
  {
   "cell_type": "code",
   "execution_count": 7,
   "id": "c0e71703",
   "metadata": {},
   "outputs": [
    {
     "data": {
      "text/plain": [
       "3.3"
      ]
     },
     "execution_count": 7,
     "metadata": {},
     "output_type": "execute_result"
    }
   ],
   "source": [
    "float(\"3.3\")"
   ]
  },
  {
   "cell_type": "code",
   "execution_count": null,
   "id": "22783bdd",
   "metadata": {},
   "outputs": [],
   "source": [
    "def change_to_float(x):\n",
    "    something = []\n",
    "    for i in x:\n",
    "        something.append(float(i))\n",
    "        return something\n",
    "        "
   ]
  },
  {
   "cell_type": "code",
   "execution_count": null,
   "id": "1852fc69",
   "metadata": {},
   "outputs": [],
   "source": [
    "change_to_float(only_dollars)"
   ]
  },
  {
   "cell_type": "code",
   "execution_count": null,
   "id": "fb6b6d3c",
   "metadata": {},
   "outputs": [],
   "source": []
  }
 ],
 "metadata": {
  "kernelspec": {
   "display_name": "Python 3 (ipykernel)",
   "language": "python",
   "name": "python3"
  },
  "language_info": {
   "codemirror_mode": {
    "name": "ipython",
    "version": 3
   },
   "file_extension": ".py",
   "mimetype": "text/x-python",
   "name": "python",
   "nbconvert_exporter": "python",
   "pygments_lexer": "ipython3",
   "version": "3.9.13"
  }
 },
 "nbformat": 4,
 "nbformat_minor": 5
}
