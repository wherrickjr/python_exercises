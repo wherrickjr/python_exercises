{
 "cells": [
  {
   "cell_type": "code",
   "execution_count": 2,
   "id": "2a334e07",
   "metadata": {},
   "outputs": [],
   "source": [
    "import numpy as np\n",
    "import pandas as pd\n",
    "import matplotlib.pyplot as plt\n",
    "import seaborn as sns"
   ]
  },
  {
   "cell_type": "code",
   "execution_count": 3,
   "id": "281532e5",
   "metadata": {},
   "outputs": [],
   "source": [
    "from math import sqrt"
   ]
  },
  {
   "cell_type": "code",
   "execution_count": 4,
   "id": "293ca202",
   "metadata": {},
   "outputs": [
    {
     "data": {
      "text/plain": [
       "6.0"
      ]
     },
     "execution_count": 4,
     "metadata": {},
     "output_type": "execute_result"
    }
   ],
   "source": [
    "sqrt(36)"
   ]
  },
  {
   "cell_type": "code",
   "execution_count": 5,
   "id": "e6a858fb",
   "metadata": {},
   "outputs": [
    {
     "data": {
      "text/plain": [
       "0       a\n",
       "1       1\n",
       "2    True\n",
       "dtype: object"
      ]
     },
     "execution_count": 5,
     "metadata": {},
     "output_type": "execute_result"
    }
   ],
   "source": [
    "pd.Series([\"a\", 1, True])"
   ]
  },
  {
   "cell_type": "code",
   "execution_count": 8,
   "id": "7303dccf",
   "metadata": {},
   "outputs": [],
   "source": [
    "import function_exercises as ex"
   ]
  },
  {
   "cell_type": "code",
   "execution_count": 9,
   "id": "1453de19",
   "metadata": {},
   "outputs": [
    {
     "ename": "NameError",
     "evalue": "name 'function_exercises' is not defined",
     "output_type": "error",
     "traceback": [
      "\u001b[0;31m---------------------------------------------------------------------------\u001b[0m",
      "\u001b[0;31mNameError\u001b[0m                                 Traceback (most recent call last)",
      "\u001b[0;32m/var/folders/9m/3m9g9yzs77j2m_79z47fjdr00000gq/T/ipykernel_9675/3524919493.py\u001b[0m in \u001b[0;36m<module>\u001b[0;34m\u001b[0m\n\u001b[0;32m----> 1\u001b[0;31m \u001b[0mfunction_exercises\u001b[0m\u001b[0;34m.\u001b[0m\u001b[0mis_vowel\u001b[0m\u001b[0;34m(\u001b[0m\u001b[0;34m'd'\u001b[0m\u001b[0;34m)\u001b[0m\u001b[0;34m\u001b[0m\u001b[0;34m\u001b[0m\u001b[0m\n\u001b[0m",
      "\u001b[0;31mNameError\u001b[0m: name 'function_exercises' is not defined"
     ]
    }
   ],
   "source": [
    "function_exercises.is_vowel('d')"
   ]
  },
  {
   "cell_type": "code",
   "execution_count": 10,
   "id": "c96063eb",
   "metadata": {},
   "outputs": [
    {
     "data": {
      "text/plain": [
       "False"
      ]
     },
     "execution_count": 10,
     "metadata": {},
     "output_type": "execute_result"
    }
   ],
   "source": [
    "ex.is_vowel('d')"
   ]
  },
  {
   "cell_type": "code",
   "execution_count": 11,
   "id": "a9d03647",
   "metadata": {},
   "outputs": [
    {
     "data": {
      "text/plain": [
       "True"
      ]
     },
     "execution_count": 11,
     "metadata": {},
     "output_type": "execute_result"
    }
   ],
   "source": [
    "ex.is_constant('f')"
   ]
  },
  {
   "cell_type": "code",
   "execution_count": 14,
   "id": "295614d6",
   "metadata": {},
   "outputs": [],
   "source": [
    "from function_exercises import is_letter_grade"
   ]
  },
  {
   "cell_type": "code",
   "execution_count": 15,
   "id": "5c540cf8",
   "metadata": {},
   "outputs": [
    {
     "data": {
      "text/plain": [
       "'B'"
      ]
     },
     "execution_count": 15,
     "metadata": {},
     "output_type": "execute_result"
    }
   ],
   "source": [
    "is_letter_grade(89)"
   ]
  },
  {
   "cell_type": "code",
   "execution_count": null,
   "id": "f3373c9c",
   "metadata": {},
   "outputs": [],
   "source": []
  }
 ],
 "metadata": {
  "kernelspec": {
   "display_name": "Python 3 (ipykernel)",
   "language": "python",
   "name": "python3"
  },
  "language_info": {
   "codemirror_mode": {
    "name": "ipython",
    "version": 3
   },
   "file_extension": ".py",
   "mimetype": "text/x-python",
   "name": "python",
   "nbconvert_exporter": "python",
   "pygments_lexer": "ipython3",
   "version": "3.9.13"
  }
 },
 "nbformat": 4,
 "nbformat_minor": 5
}
