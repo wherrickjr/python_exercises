{
 "cells": [
  {
   "cell_type": "code",
   "execution_count": 16,
   "id": "a329722e",
   "metadata": {},
   "outputs": [],
   "source": [
    "def user_name():\n",
    "    username = first_name[:2] + last_name[:4] + birth_year[2:4]\n",
    "    return username\n",
    "\n",
    "\n"
   ]
  },
  {
   "cell_type": "code",
   "execution_count": 11,
   "id": "f23c3b21",
   "metadata": {},
   "outputs": [
    {
     "data": {
      "text/plain": [
       "'hegood90'"
      ]
     },
     "execution_count": 11,
     "metadata": {},
     "output_type": "execute_result"
    }
   ],
   "source": []
  },
  {
   "cell_type": "code",
   "execution_count": 15,
   "id": "5398a1a4",
   "metadata": {},
   "outputs": [
    {
     "name": "stdout",
     "output_type": "stream",
     "text": [
      "Please enter your first name: hhjhlk\n",
      "Please enter you last name: kljhlkj\n",
      "Please enter birthdate YYYY-MM-DD: 19999\n",
      "hhkljh99\n"
     ]
    }
   ],
   "source": [
    "first_name = input(\"Please enter your first name: \")\n",
    "last_name = input(\"Please enter you last name: \")\n",
    "birth_year = input(\"Please enter birthdate YYYY-MM-DD: \")\n",
    "\n",
    "username = first_name[:2] + last_name[:4] + birth_year[2:4]\n",
    "\n",
    "print(username)"
   ]
  },
  {
   "cell_type": "code",
   "execution_count": 21,
   "id": "8666f7c4",
   "metadata": {},
   "outputs": [],
   "source": [
    "def birth_date():\n",
    "    '''This function takes input for the birth date and outputs it in the desired format.'''\n",
    "    from datetime import date\n",
    "    current_year = date.today().year\n",
    "    b_date = \"\"\n",
    "    while True:\n",
    "            try:\n",
    "                day = int(input(\"Please enter the day (DD) you were born: \"))\n",
    "                month = int(input(\"Please enter the month (MM) you were born: \"))\n",
    "                year = int(input(\"Please enter the year (YYYY) you were born: \"))\n",
    "                if 0 < day <= 31 and 0 < month <= 12 and 0 < year <= current_year:\n",
    "                    \n",
    "                    b_date = str(month) + '-' + str(day) +'-'+ str(year)\n",
    "                    loop_exit = input(\"Is your birthday (y/n?): \" + str(b_date))\n",
    "                    if loop_exit.lower() == 'y' or loop_exit.lower == 'yes':\n",
    "                        break\n",
    "                else:\n",
    "                    print(\"You entered invalid numbers. Try again...\")\n",
    "            except ValueError:\n",
    "                print(\"Oops!  That was not a number.  Try again...\")\n",
    "    return b_date\n"
   ]
  },
  {
   "cell_type": "code",
   "execution_count": null,
   "id": "a369fec0",
   "metadata": {},
   "outputs": [
    {
     "name": "stdout",
     "output_type": "stream",
     "text": [
      "Please enter the day (DD) you were born: 25\n",
      "Please enter the month (MM) you were born: 11\n",
      "Please enter the year (YYYY) you were born: 1990\n",
      "Is your birthday (y/n?): 11-25-1990n\n"
     ]
    }
   ],
   "source": [
    "print(birth_date())"
   ]
  },
  {
   "cell_type": "code",
   "execution_count": null,
   "id": "208544b7",
   "metadata": {},
   "outputs": [],
   "source": [
    "def get_last(last_name,character_amount,capitalize,position):\n",
    "    '''\n",
    "        accepts a string representing a last name and returns a string\n",
    "        formatted by a specifications such as:\n",
    "    \n",
    "        string character_amount = length amount of return statement\n",
    "            ie: aaa (character_amount=3)\n",
    "        \n",
    "        boolean capitalize = True or False \n",
    "            ie: AAA or aaa\n",
    "    \n",
    "        string position = beginning, middle, or end\n",
    "            ie: \n",
    "                character_amount = 3, capitalize = True\n",
    "        \n",
    "                \"Martinez\"\n",
    "                begginning = MAR\n",
    "                middle = ????\n",
    "                end = NEZ\n",
    "        \n",
    "        SAMPLE:\n",
    "        get_last(last_name, 4, False, \"beginning\")\n",
    "    '''\n",
    "    while position == \"beginning\":\n",
    "        if capitalize == False:\n",
    "            last_name = last_name[:(character_amount)].lower()\n",
    "        else:\n",
    "            last_name = last_name[:(character_amount)].upper()\n",
    "    \n",
    "        return last_name\n",
    "    else:\n",
    "        print(\"Under Construction\")"
   ]
  },
  {
   "cell_type": "code",
   "execution_count": null,
   "id": "acb0e1f6",
   "metadata": {},
   "outputs": [],
   "source": [
    "def first(first_name, char_amount, capital):\n",
    "    '''\n",
    "    Accepts a string through the input variable first_name, the amount of characters you want\n",
    "    from your name in your username, and whether its lowercase or capitalized.\n",
    "    first_name = the input below\n",
    "    char_amount = an integer defining how many characters they'd like from their first name to be included\n",
    "    capital = whether they want the letters to be lowercase or capitalized\n",
    "    '''\n",
    "    first_name = input(\"Enter your first name here: \")\n",
    "    char_amount = int(input('How many letters do you want from your first name in your username? '))\n",
    "    if capital == 1:\n",
    "        first_name = first_name[:(char_amount)].upper().strip()\n",
    "    else:\n",
    "        first_name = first_name[:(char_amount)].lower().strip()\n",
    "    return first_name\n",
    "first(first_name, 3, 1)"
   ]
  },
  {
   "cell_type": "code",
   "execution_count": null,
   "id": "22b9ea7e",
   "metadata": {},
   "outputs": [],
   "source": [
    "first(blah, 2, 3)"
   ]
  },
  {
   "cell_type": "code",
   "execution_count": null,
   "id": "2bb7fa85",
   "metadata": {},
   "outputs": [],
   "source": [
    "print(str(first_name) + str (last_name) + str(birth_date))"
   ]
  },
  {
   "cell_type": "code",
   "execution_count": 4,
   "id": "11a17822",
   "metadata": {},
   "outputs": [
    {
     "name": "stdout",
     "output_type": "stream",
     "text": [
      "Enter your first name here: bill\n",
      "Enter Last Name: herrick\n",
      "Please enter the day (DD) you were born: 25\n",
      "Please enter the month (MM) you were born: 11\n",
      "Please enter the year (YYYY) you were born: 1990\n",
      "Is your birthday (y/n?): 11-25-1990y\n"
     ]
    },
    {
     "data": {
      "text/plain": [
       "'biherr90'"
      ]
     },
     "execution_count": 4,
     "metadata": {},
     "output_type": "execute_result"
    }
   ],
   "source": [
    "#Inputs to take in the first and last names\n",
    "\n",
    "first_name = input(\"Enter your first name here: \")\n",
    "\n",
    "last_name = input(\"Enter Last Name: \")\n",
    "\n",
    "#Function to get first two letters of first name\n",
    "\n",
    "def first(fn):\n",
    "    \n",
    "    '''Uses slicing to collect the first two letters in the first name, lowercases, and strips them'''\n",
    "    \n",
    "    fn = first_name[:2]\n",
    "    return fn.lower().strip()\n",
    "\n",
    "#Function to get the first four of the last name\n",
    "\n",
    "def last(ln):\n",
    "    \n",
    "    '''Same as above, collects first four of last name, lowercases them, and strips them'''\n",
    "    \n",
    "    ln = last_name[:4]\n",
    "    return ln.lower().strip()\n",
    "\n",
    "\n",
    "def user_name(fn, ln):\n",
    "    \n",
    "    username = fn + ln\n",
    "    return username\n",
    "\n",
    "\n",
    "\n",
    "def birth_date():\n",
    "    \"\"\"This function takes input for the birth date and outputs it in the desired format.\"\"\"\n",
    "    from datetime import date\n",
    "    current_year = date.today().year\n",
    "    #While loop for user input.\n",
    "    while True:\n",
    "            try:\n",
    "                #Int is used for easier input verification.\n",
    "                day = int(input('Please enter the day (DD) you were born: '))\n",
    "                month = int(input('Please enter the month (MM) you were born: '))\n",
    "                year = int(input('Please enter the year (YYYY) you were born: '))\n",
    "                #Getting through the two if statements is the only way to exit the while loop.\n",
    "                if 0 < day <= 31 and 0 < month <= 12 and 1800 < year <= current_year:\n",
    "                    b_day = str(day)\n",
    "                    b_month = str(month)\n",
    "                    b_year = str(year)\n",
    "                    b_date =  b_month + '-' + b_day + '-' + b_year\n",
    "                    loop_exit = input('Is your birthday (y/n?): '+ b_date)\n",
    "                    if loop_exit.lower() == 'y' or loop_exit.lower == 'yes':\n",
    "                        #This is the only loop exit.\n",
    "                        break\n",
    "                else:\n",
    "                    print('You entered invalid numbers. Try again...')\n",
    "            #Exception handling for when the user enters a non-number char for int input.\n",
    "            except ValueError:\n",
    "                print('Oops!  That was not a number.  Try again...')\n",
    "    return b_date\n",
    "\n",
    "########\n",
    "\n",
    "def user_name (first_name, last_name, birth_date):\n",
    "    user_name = first_name[:3] + last_name[:4] + birth_date[-2:]\n",
    "    return user_name\n",
    "\n",
    "def new_user():\n",
    "    first_name = first_name()\n",
    "    last_name = last_name()\n",
    "    birth_date = birth_date()\n",
    "    user_name = user_name(first_name,last_name,birth_date)\n",
    "    \n",
    "user_name(first(first_name), last(last_name), birth_date())"
   ]
  },
  {
   "cell_type": "code",
   "execution_count": null,
   "id": "dc5e1495",
   "metadata": {},
   "outputs": [],
   "source": [
    "#Inputs to take in the first and last names\n",
    "\n",
    "first_name = input(\"Enter your first name here: \")\n",
    "\n",
    "last_name = input(\"Enter your last name here: \")\n",
    "\n",
    "#Function to get first two letters of first name\n",
    "\n",
    "def first(fn):\n",
    "    \n",
    "    '''Uses slicing to collect the first two letters in the first name, lowercases, and strips them'''\n",
    "    \n",
    "    fn = first_name[:2]\n",
    "    return fn.lower().strip()\n",
    "\n",
    "#Function to get the first four of the last name\n",
    "\n",
    "def last(ln):\n",
    "    \n",
    "    '''Same as above, collects first four of last name, lowercases them, and strips them'''\n",
    "    \n",
    "    ln = last_name[:4]\n",
    "    return ln.lower().strip()\n",
    "\n",
    "def birth_date():\n",
    "    \"\"\"This function takes input for the birth date and outputs it in the desired format.\"\"\"\n",
    "    from datetime import date\n",
    "    current_year = date.today().year\n",
    "    #While loop for user input.\n",
    "    while True:\n",
    "            try:\n",
    "                #Int is used for easier input verification.\n",
    "                day = int(input('Please enter the day (DD) you were born: '))\n",
    "                month = int(input('Please enter the month (MM) you were born: '))\n",
    "                year = int(input('Please enter the year (YYYY) you were born: '))\n",
    "                #Getting through the two if statements is the only way to exit the while loop.\n",
    "                if 0 < day <= 31 and 0 < month <= 12 and 1800 < year <= current_year:\n",
    "                    b_day = str(day)\n",
    "                    b_month = str(month)\n",
    "                    b_year = str(year)\n",
    "                    b_date =  b_month + '-' + b_day + '-' + b_year\n",
    "                    loop_exit = input('Is your birthday (y/n?): '+ b_date)\n",
    "                    if loop_exit.lower() == 'y' or loop_exit.lower == 'yes':\n",
    "                        #This is the only loop exit.\n",
    "                        break\n",
    "                else:\n",
    "                    print('You entered invalid numbers. Try again...')\n",
    "            #Exception handling for when the user enters a non-number char for int input.\n",
    "            except ValueError:\n",
    "                print('Oops!  That was not a number.  Try again...')\n",
    "    return b_date\n",
    "\n",
    "########\n",
    "\n",
    "def user_name (first_name, last_name, birth_date):\n",
    "    user_name = first_name + last_name + birth_date[-2:]\n",
    "    return user_name\n",
    "\n",
    "def new_user():\n",
    "    first_name = first_name()\n",
    "    last_name = last_name()\n",
    "    birth_date = birth_date()\n",
    "    user_name = user_name(first_name,last_name,birth_date)\n",
    "    \n",
    "user_name(first(first_name), last(last_name), birth_date())"
   ]
  }
 ],
 "metadata": {
  "kernelspec": {
   "display_name": "Python 3 (ipykernel)",
   "language": "python",
   "name": "python3"
  },
  "language_info": {
   "codemirror_mode": {
    "name": "ipython",
    "version": 3
   },
   "file_extension": ".py",
   "mimetype": "text/x-python",
   "name": "python",
   "nbconvert_exporter": "python",
   "pygments_lexer": "ipython3",
   "version": "3.9.13"
  }
 },
 "nbformat": 4,
 "nbformat_minor": 5
}
