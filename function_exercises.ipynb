{
 "cells": [
  {
   "cell_type": "code",
   "execution_count": 5,
   "id": "db8742d6",
   "metadata": {},
   "outputs": [],
   "source": [
    "def square_max(my_list):\n",
    "    print(max(my_list))"
   ]
  },
  {
   "cell_type": "code",
   "execution_count": 6,
   "id": "c5614d90",
   "metadata": {},
   "outputs": [],
   "source": [
    "def is_two(x):\n",
    "    if x == 2 or x == '2':\n",
    "        return True\n",
    "    else:\n",
    "        return False\n"
   ]
  },
  {
   "cell_type": "code",
   "execution_count": 7,
   "id": "955794b9",
   "metadata": {},
   "outputs": [
    {
     "data": {
      "text/plain": [
       "False"
      ]
     },
     "execution_count": 7,
     "metadata": {},
     "output_type": "execute_result"
    }
   ],
   "source": [
    "is_two(5)"
   ]
  },
  {
   "cell_type": "code",
   "execution_count": 8,
   "id": "1ebd7e13",
   "metadata": {},
   "outputs": [
    {
     "data": {
      "text/plain": [
       "True"
      ]
     },
     "execution_count": 8,
     "metadata": {},
     "output_type": "execute_result"
    }
   ],
   "source": [
    "is_two(2)"
   ]
  },
  {
   "cell_type": "code",
   "execution_count": 94,
   "id": "8b934074",
   "metadata": {},
   "outputs": [],
   "source": [
    "def is_vowel(x):\n",
    "    vowels = 0\n",
    "    for char in x:\n",
    "        if char in\"aeiouAEIOU\":\n",
    "            vowels = vowels + 1\n",
    "        else:\n",
    "            vowels = vowels\n",
    "    if vowels != 0:\n",
    "        return True\n",
    "    else:\n",
    "        return False"
   ]
  },
  {
   "cell_type": "code",
   "execution_count": 98,
   "id": "d0168075",
   "metadata": {},
   "outputs": [
    {
     "data": {
      "text/plain": [
       "True"
      ]
     },
     "execution_count": 98,
     "metadata": {},
     "output_type": "execute_result"
    }
   ],
   "source": [
    "is_vowel(\"hello\")"
   ]
  },
  {
   "cell_type": "code",
   "execution_count": 99,
   "id": "1a3fe8ee",
   "metadata": {},
   "outputs": [],
   "source": [
    "def cube_max(my_list):\n",
    "    print(max(my_list) ** 3, 'cube')\n",
    "    "
   ]
  },
  {
   "cell_type": "code",
   "execution_count": 127,
   "id": "7fa21ec8",
   "metadata": {},
   "outputs": [],
   "source": [
    "def converter(meas, metric = True):\n",
    "    \n",
    "    if metric:\n",
    "        num_inches = meas / 2.54\n",
    "        \n",
    "        return num_inches\n",
    "    \n",
    "    else:\n",
    "        num_cms = meas * 2.54\n",
    "        \n",
    "        return num_cms"
   ]
  },
  {
   "cell_type": "code",
   "execution_count": 128,
   "id": "fcc532a4",
   "metadata": {},
   "outputs": [
    {
     "data": {
      "text/plain": [
       "47.24409448818898"
      ]
     },
     "execution_count": 128,
     "metadata": {},
     "output_type": "execute_result"
    }
   ],
   "source": [
    "converter(120, metric = True)"
   ]
  },
  {
   "cell_type": "code",
   "execution_count": 141,
   "id": "d1594991",
   "metadata": {},
   "outputs": [],
   "source": [
    "def min_finder(my_list):\n",
    "    x = min(my_list)\n",
    "    return x"
   ]
  },
  {
   "cell_type": "code",
   "execution_count": 142,
   "id": "7497ec3d",
   "metadata": {},
   "outputs": [],
   "source": [
    "dummy_list = [2, 2, 2, 4, 7]"
   ]
  },
  {
   "cell_type": "code",
   "execution_count": 143,
   "id": "e8491251",
   "metadata": {},
   "outputs": [
    {
     "data": {
      "text/plain": [
       "2"
      ]
     },
     "execution_count": 143,
     "metadata": {},
     "output_type": "execute_result"
    }
   ],
   "source": [
    "min_finder(dummy_list)"
   ]
  },
  {
   "cell_type": "code",
   "execution_count": 162,
   "id": "dc9bcdba",
   "metadata": {},
   "outputs": [],
   "source": [
    "def capitalize_if_constant(x):\n",
    "    vowels = \"aeiouAEIOU\"\n",
    "    if x[0] not in vowels:\n",
    "        return x[0].upper() + x[1:]\n",
    "    else:\n",
    "        return x"
   ]
  },
  {
   "cell_type": "code",
   "execution_count": 165,
   "id": "e5e523d0",
   "metadata": {},
   "outputs": [
    {
     "data": {
      "text/plain": [
       "'Dude'"
      ]
     },
     "execution_count": 165,
     "metadata": {},
     "output_type": "execute_result"
    }
   ],
   "source": [
    "capitalize_if_constant('dude')"
   ]
  },
  {
   "cell_type": "code",
   "execution_count": 159,
   "id": "adaf261d",
   "metadata": {},
   "outputs": [
    {
     "data": {
      "text/plain": [
       "'Hello'"
      ]
     },
     "execution_count": 159,
     "metadata": {},
     "output_type": "execute_result"
    }
   ],
   "source": [
    "x = \"hello\"\n",
    "x[0].upper() + x[1:]\n"
   ]
  },
  {
   "cell_type": "code",
   "execution_count": 152,
   "id": "c2f71a60",
   "metadata": {},
   "outputs": [
    {
     "data": {
      "text/plain": [
       "'HELLO'"
      ]
     },
     "execution_count": 152,
     "metadata": {},
     "output_type": "execute_result"
    }
   ],
   "source": [
    "x.upper()"
   ]
  },
  {
   "cell_type": "code",
   "execution_count": 166,
   "id": "cc33db94",
   "metadata": {},
   "outputs": [],
   "source": [
    "def calculate_tip(bill):\n",
    "    tip = bill * 0.2\n",
    "    return tip"
   ]
  },
  {
   "cell_type": "code",
   "execution_count": 167,
   "id": "f40abf54",
   "metadata": {},
   "outputs": [
    {
     "data": {
      "text/plain": [
       "20.0"
      ]
     },
     "execution_count": 167,
     "metadata": {},
     "output_type": "execute_result"
    }
   ],
   "source": [
    "calculate_tip(100)"
   ]
  },
  {
   "cell_type": "code",
   "execution_count": 170,
   "id": "044e1137",
   "metadata": {},
   "outputs": [],
   "source": [
    "def apply_discount(price, discount):\n",
    "    discount_price = price - (price * discount)\n",
    "    return discount_price"
   ]
  },
  {
   "cell_type": "code",
   "execution_count": 171,
   "id": "bdc188be",
   "metadata": {},
   "outputs": [
    {
     "data": {
      "text/plain": [
       "40.0"
      ]
     },
     "execution_count": 171,
     "metadata": {},
     "output_type": "execute_result"
    }
   ],
   "source": [
    "apply_discount(50, .2)"
   ]
  },
  {
   "cell_type": "code",
   "execution_count": 176,
   "id": "da9cdd29",
   "metadata": {},
   "outputs": [],
   "source": [
    "def handle_commas(x):\n",
    "    new = x.replace(\",\",\"\")\n",
    "    return new"
   ]
  },
  {
   "cell_type": "code",
   "execution_count": 177,
   "id": "4b01123a",
   "metadata": {},
   "outputs": [
    {
     "data": {
      "text/plain": [
       "'100000000000000'"
      ]
     },
     "execution_count": 177,
     "metadata": {},
     "output_type": "execute_result"
    }
   ],
   "source": [
    "handle_commas(\"100,000,000,000,000\")"
   ]
  },
  {
   "cell_type": "code",
   "execution_count": 178,
   "id": "bfa00853",
   "metadata": {},
   "outputs": [],
   "source": [
    "def normalize_name(x):\n",
    "    stripped = x.strip()\n",
    "    stripped_and_low = stripped.lower()\n",
    "    stripped_low_and_underscored = stripped_and_low.replace(\" \", \"_\")\n",
    "    return stripped_low_and_underscored\n",
    "    "
   ]
  },
  {
   "cell_type": "code",
   "execution_count": 179,
   "id": "a1b8f138",
   "metadata": {},
   "outputs": [
    {
     "data": {
      "text/plain": [
       "'hello_mny_name_lskj_ldkajf_kdkda'"
      ]
     },
     "execution_count": 179,
     "metadata": {},
     "output_type": "execute_result"
    }
   ],
   "source": [
    "normalize_name(\"hello mny name LSKJ ldkajf kdkda       \")"
   ]
  },
  {
   "cell_type": "code",
   "execution_count": null,
   "id": "e8676a86",
   "metadata": {},
   "outputs": [],
   "source": []
  }
 ],
 "metadata": {
  "kernelspec": {
   "display_name": "Python 3 (ipykernel)",
   "language": "python",
   "name": "python3"
  },
  "language_info": {
   "codemirror_mode": {
    "name": "ipython",
    "version": 3
   },
   "file_extension": ".py",
   "mimetype": "text/x-python",
   "name": "python",
   "nbconvert_exporter": "python",
   "pygments_lexer": "ipython3",
   "version": "3.9.13"
  }
 },
 "nbformat": 4,
 "nbformat_minor": 5
}
